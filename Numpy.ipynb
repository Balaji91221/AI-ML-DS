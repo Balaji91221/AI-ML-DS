{
 "cells": [
  {
   "cell_type": "code",
   "execution_count": 26,
   "id": "bb275655",
   "metadata": {},
   "outputs": [],
   "source": [
    "import numpy as np"
   ]
  },
  {
   "cell_type": "code",
   "execution_count": 27,
   "id": "e6f8b146",
   "metadata": {},
   "outputs": [],
   "source": [
    "import array"
   ]
  },
  {
   "cell_type": "code",
   "execution_count": 28,
   "id": "9a5bea65",
   "metadata": {},
   "outputs": [
    {
     "data": {
      "text/plain": [
       "array([ 1,  2, 34,  5])"
      ]
     },
     "execution_count": 28,
     "metadata": {},
     "output_type": "execute_result"
    }
   ],
   "source": [
    "np.array([1,2,34,5])"
   ]
  },
  {
   "cell_type": "code",
   "execution_count": 29,
   "id": "1bd25c9d",
   "metadata": {},
   "outputs": [
    {
     "data": {
      "text/plain": [
       "numpy.ndarray"
      ]
     },
     "execution_count": 29,
     "metadata": {},
     "output_type": "execute_result"
    }
   ],
   "source": [
    "type(np.array([1,2,34,5])) # high order data as the convert into upcosting"
   ]
  },
  {
   "cell_type": "code",
   "execution_count": 30,
   "id": "3180f2ee",
   "metadata": {},
   "outputs": [
    {
     "data": {
      "text/plain": [
       "array([1., 2., 3., 4., 6.])"
      ]
     },
     "execution_count": 30,
     "metadata": {},
     "output_type": "execute_result"
    }
   ],
   "source": [
    "np.array([1,2,3,4,6.0])"
   ]
  },
  {
   "cell_type": "code",
   "execution_count": 31,
   "id": "0854e751",
   "metadata": {},
   "outputs": [
    {
     "data": {
      "text/plain": [
       "array(['1', '2', '3', '4', '6.0', 'balaji'], dtype='<U32')"
      ]
     },
     "execution_count": 31,
     "metadata": {},
     "output_type": "execute_result"
    }
   ],
   "source": [
    "np.array([1,2,3,4,6.0,'balaji'])"
   ]
  },
  {
   "cell_type": "code",
   "execution_count": 32,
   "id": "89c88823",
   "metadata": {},
   "outputs": [
    {
     "data": {
      "text/plain": [
       "array([[1, 3],\n",
       "       [2, 3],\n",
       "       [4, 5]])"
      ]
     },
     "execution_count": 32,
     "metadata": {},
     "output_type": "execute_result"
    }
   ],
   "source": [
    "np.array([[1,3],[2,3],[4,5]])"
   ]
  },
  {
   "cell_type": "code",
   "execution_count": 33,
   "id": "a28d9be2",
   "metadata": {},
   "outputs": [],
   "source": [
    "d = np.array([[[1,3],[2,3],[4,5]],[[1,3],[2,3],[4,5]]])"
   ]
  },
  {
   "cell_type": "code",
   "execution_count": 34,
   "id": "034bfbe4",
   "metadata": {},
   "outputs": [
    {
     "data": {
      "text/plain": [
       "array([[[1, 3],\n",
       "        [2, 3],\n",
       "        [4, 5]],\n",
       "\n",
       "       [[1, 3],\n",
       "        [2, 3],\n",
       "        [4, 5]]])"
      ]
     },
     "execution_count": 34,
     "metadata": {},
     "output_type": "execute_result"
    }
   ],
   "source": [
    "d"
   ]
  },
  {
   "cell_type": "code",
   "execution_count": 35,
   "id": "7ed61834",
   "metadata": {},
   "outputs": [
    {
     "data": {
      "text/plain": [
       "numpy.ndarray"
      ]
     },
     "execution_count": 35,
     "metadata": {},
     "output_type": "execute_result"
    }
   ],
   "source": [
    "type(d)"
   ]
  },
  {
   "cell_type": "code",
   "execution_count": 36,
   "id": "199a9e53",
   "metadata": {},
   "outputs": [
    {
     "data": {
      "text/plain": [
       "array([[[[[[[[[[[[[[[[[[[[[[[[[[[[[[1, 2, 3]]]]]]]]]]]]]]]]]]]]]]]]]]]]]])"
      ]
     },
     "execution_count": 36,
     "metadata": {},
     "output_type": "execute_result"
    }
   ],
   "source": [
    "np.array([1,2,3],ndmin = 30) # 30 dimension"
   ]
  },
  {
   "cell_type": "code",
   "execution_count": 37,
   "id": "a96bdf0c",
   "metadata": {},
   "outputs": [
    {
     "data": {
      "text/plain": [
       "array([1.+0.j, 2.+0.j, 3.+0.j])"
      ]
     },
     "execution_count": 37,
     "metadata": {},
     "output_type": "execute_result"
    }
   ],
   "source": [
    "np.array([1,2,3],dtype=complex) # real number imaginary part s Zero"
   ]
  },
  {
   "cell_type": "code",
   "execution_count": 38,
   "id": "242289b0",
   "metadata": {},
   "outputs": [],
   "source": [
    "arr=np.array([[1,2],[3,4]])"
   ]
  },
  {
   "cell_type": "code",
   "execution_count": 39,
   "id": "d094b0c7",
   "metadata": {},
   "outputs": [
    {
     "data": {
      "text/plain": [
       "array([[1, 2],\n",
       "       [3, 4]])"
      ]
     },
     "execution_count": 39,
     "metadata": {},
     "output_type": "execute_result"
    }
   ],
   "source": [
    "arr"
   ]
  },
  {
   "cell_type": "code",
   "execution_count": 40,
   "id": "bb90e740",
   "metadata": {},
   "outputs": [
    {
     "data": {
      "text/plain": [
       "2"
      ]
     },
     "execution_count": 40,
     "metadata": {},
     "output_type": "execute_result"
    }
   ],
   "source": [
    "arr[0][1]"
   ]
  },
  {
   "cell_type": "code",
   "execution_count": 41,
   "id": "7551820b",
   "metadata": {},
   "outputs": [
    {
     "data": {
      "text/plain": [
       "4"
      ]
     },
     "execution_count": 41,
     "metadata": {},
     "output_type": "execute_result"
    }
   ],
   "source": [
    "arr[1][1]"
   ]
  },
  {
   "cell_type": "code",
   "execution_count": 42,
   "id": "30ff710d",
   "metadata": {},
   "outputs": [
    {
     "data": {
      "text/plain": [
       "numpy.int32"
      ]
     },
     "execution_count": 42,
     "metadata": {},
     "output_type": "execute_result"
    }
   ],
   "source": [
    "type(arr[1][1])"
   ]
  },
  {
   "cell_type": "code",
   "execution_count": 43,
   "id": "35ac5763",
   "metadata": {},
   "outputs": [],
   "source": [
    "mat=np.mat(arr)# changing into array to matrix"
   ]
  },
  {
   "cell_type": "code",
   "execution_count": 44,
   "id": "95852eef",
   "metadata": {},
   "outputs": [
    {
     "data": {
      "text/plain": [
       "matrix([[1, 2],\n",
       "        [3, 4]])"
      ]
     },
     "execution_count": 44,
     "metadata": {},
     "output_type": "execute_result"
    }
   ],
   "source": [
    "mat"
   ]
  },
  {
   "cell_type": "code",
   "execution_count": 45,
   "id": "519d528b",
   "metadata": {},
   "outputs": [],
   "source": [
    "l=[3,2,5,3,5]"
   ]
  },
  {
   "cell_type": "code",
   "execution_count": 46,
   "id": "91b0308e",
   "metadata": {},
   "outputs": [
    {
     "data": {
      "text/plain": [
       "array([3, 2, 5, 3, 5])"
      ]
     },
     "execution_count": 46,
     "metadata": {},
     "output_type": "execute_result"
    }
   ],
   "source": [
    "np.array(l)"
   ]
  },
  {
   "cell_type": "code",
   "execution_count": 21,
   "id": "de54b877",
   "metadata": {},
   "outputs": [
    {
     "data": {
      "text/plain": [
       "array([3, 2, 5, 3, 5])"
      ]
     },
     "execution_count": 21,
     "metadata": {},
     "output_type": "execute_result"
    }
   ],
   "source": [
    "np.asanyarray(l)"
   ]
  },
  {
   "cell_type": "code",
   "execution_count": 47,
   "id": "d86d16c2",
   "metadata": {},
   "outputs": [
    {
     "data": {
      "text/plain": [
       "matrix([[1, 2],\n",
       "        [3, 4]])"
      ]
     },
     "execution_count": 47,
     "metadata": {},
     "output_type": "execute_result"
    }
   ],
   "source": [
    "np.asanyarray(mat) ## matrix"
   ]
  },
  {
   "cell_type": "code",
   "execution_count": 48,
   "id": "3f7c005b",
   "metadata": {},
   "outputs": [
    {
     "data": {
      "text/plain": [
       "array([[1, 2],\n",
       "       [3, 4]])"
      ]
     },
     "execution_count": 48,
     "metadata": {},
     "output_type": "execute_result"
    }
   ],
   "source": [
    "np.asarray(mat)# array"
   ]
  },
  {
   "cell_type": "code",
   "execution_count": 49,
   "id": "376cdf20",
   "metadata": {},
   "outputs": [
    {
     "data": {
      "text/plain": [
       "True"
      ]
     },
     "execution_count": 49,
     "metadata": {},
     "output_type": "execute_result"
    }
   ],
   "source": [
    "issubclass(np.matrix, np.ndarray)"
   ]
  },
  {
   "cell_type": "code",
   "execution_count": 50,
   "id": "8888f1c7",
   "metadata": {},
   "outputs": [
    {
     "data": {
      "text/plain": [
       "False"
      ]
     },
     "execution_count": 50,
     "metadata": {},
     "output_type": "execute_result"
    }
   ],
   "source": [
    "issubclass(np.ndarray, np.matrix)"
   ]
  },
  {
   "cell_type": "code",
   "execution_count": 52,
   "id": "d2fb6921",
   "metadata": {},
   "outputs": [],
   "source": [
    "a=arr\n"
   ]
  },
  {
   "cell_type": "code",
   "execution_count": 53,
   "id": "71c1ea98",
   "metadata": {},
   "outputs": [
    {
     "data": {
      "text/plain": [
       "array([[1, 2],\n",
       "       [3, 4]])"
      ]
     },
     "execution_count": 53,
     "metadata": {},
     "output_type": "execute_result"
    }
   ],
   "source": [
    "a"
   ]
  },
  {
   "cell_type": "code",
   "execution_count": 54,
   "id": "6e71db55",
   "metadata": {},
   "outputs": [],
   "source": [
    "b = np.copy(arr)  # Deep Copy\n"
   ]
  },
  {
   "cell_type": "code",
   "execution_count": 55,
   "id": "41986fe8",
   "metadata": {},
   "outputs": [
    {
     "data": {
      "text/plain": [
       "array([[1, 2],\n",
       "       [3, 4]])"
      ]
     },
     "execution_count": 55,
     "metadata": {},
     "output_type": "execute_result"
    }
   ],
   "source": [
    "b"
   ]
  },
  {
   "cell_type": "code",
   "execution_count": 56,
   "id": "8b1a3062",
   "metadata": {},
   "outputs": [],
   "source": [
    "arr[0][0] = 67"
   ]
  },
  {
   "cell_type": "code",
   "execution_count": 57,
   "id": "6bef6d8b",
   "metadata": {},
   "outputs": [
    {
     "data": {
      "text/plain": [
       "array([[67,  2],\n",
       "       [ 3,  4]])"
      ]
     },
     "execution_count": 57,
     "metadata": {},
     "output_type": "execute_result"
    }
   ],
   "source": [
    "arr"
   ]
  },
  {
   "cell_type": "code",
   "execution_count": 60,
   "id": "217f0691",
   "metadata": {},
   "outputs": [
    {
     "data": {
      "text/plain": [
       "array([[67,  2],\n",
       "       [ 3,  4]])"
      ]
     },
     "execution_count": 60,
     "metadata": {},
     "output_type": "execute_result"
    }
   ],
   "source": [
    "\n",
    "a        # a reflecting the changes"
   ]
  },
  {
   "cell_type": "code",
   "execution_count": 61,
   "id": "da991321",
   "metadata": {},
   "outputs": [
    {
     "data": {
      "text/plain": [
       "array([[1, 2],\n",
       "       [3, 4]])"
      ]
     },
     "execution_count": 61,
     "metadata": {},
     "output_type": "execute_result"
    }
   ],
   "source": [
    "b        # b not reflecting the changes"
   ]
  },
  {
   "cell_type": "code",
   "execution_count": 62,
   "id": "56480d08",
   "metadata": {},
   "outputs": [
    {
     "data": {
      "text/plain": [
       "2250966568176"
      ]
     },
     "execution_count": 62,
     "metadata": {},
     "output_type": "execute_result"
    }
   ],
   "source": [
    "\n",
    "id(arr)"
   ]
  },
  {
   "cell_type": "code",
   "execution_count": 63,
   "id": "07414dd7",
   "metadata": {},
   "outputs": [
    {
     "data": {
      "text/plain": [
       "2250966568176"
      ]
     },
     "execution_count": 63,
     "metadata": {},
     "output_type": "execute_result"
    }
   ],
   "source": [
    "id(a)"
   ]
  },
  {
   "cell_type": "code",
   "execution_count": 64,
   "id": "4aacec4d",
   "metadata": {},
   "outputs": [
    {
     "data": {
      "text/plain": [
       "2250966567024"
      ]
     },
     "execution_count": 64,
     "metadata": {},
     "output_type": "execute_result"
    }
   ],
   "source": [
    "id(b)"
   ]
  },
  {
   "cell_type": "code",
   "execution_count": 65,
   "id": "c98bd64f",
   "metadata": {},
   "outputs": [
    {
     "data": {
      "text/plain": [
       "True"
      ]
     },
     "execution_count": 65,
     "metadata": {},
     "output_type": "execute_result"
    }
   ],
   "source": [
    "id(arr) == id(a) # both are equal it will be reflected on b"
   ]
  },
  {
   "cell_type": "code",
   "execution_count": 66,
   "id": "b3aa4943",
   "metadata": {},
   "outputs": [
    {
     "data": {
      "text/plain": [
       "False"
      ]
     },
     "execution_count": 66,
     "metadata": {},
     "output_type": "execute_result"
    }
   ],
   "source": [
    "id(arr) == id(b)"
   ]
  },
  {
   "cell_type": "code",
   "execution_count": 67,
   "id": "9e5d8335",
   "metadata": {},
   "outputs": [
    {
     "data": {
      "text/plain": [
       "array([[67,  2],\n",
       "       [ 3,  4]])"
      ]
     },
     "execution_count": 67,
     "metadata": {},
     "output_type": "execute_result"
    }
   ],
   "source": [
    "\n",
    "arr"
   ]
  },
  {
   "cell_type": "code",
   "execution_count": 68,
   "id": "180b5516",
   "metadata": {},
   "outputs": [
    {
     "data": {
      "text/plain": [
       "array([[67,  2],\n",
       "       [ 3,  4]])"
      ]
     },
     "execution_count": 68,
     "metadata": {},
     "output_type": "execute_result"
    }
   ],
   "source": [
    "arr[0: 10]\n"
   ]
  },
  {
   "cell_type": "code",
   "execution_count": 69,
   "id": "a66a879b",
   "metadata": {},
   "outputs": [
    {
     "data": {
      "text/plain": [
       "array([3, 4])"
      ]
     },
     "execution_count": 69,
     "metadata": {},
     "output_type": "execute_result"
    }
   ],
   "source": [
    "arr[-1]"
   ]
  },
  {
   "cell_type": "code",
   "execution_count": 70,
   "id": "a8ca310d",
   "metadata": {},
   "outputs": [
    {
     "data": {
      "text/plain": [
       "array([[ 3,  4],\n",
       "       [67,  2]])"
      ]
     },
     "execution_count": 70,
     "metadata": {},
     "output_type": "execute_result"
    }
   ],
   "source": [
    "arr[::-1]"
   ]
  },
  {
   "cell_type": "code",
   "execution_count": 71,
   "id": "d251fe18",
   "metadata": {},
   "outputs": [
    {
     "name": "stdout",
     "output_type": "stream",
     "text": [
      "[67  2]\n",
      "[3 4]\n"
     ]
    }
   ],
   "source": [
    "for i in arr:\n",
    "    print(i)"
   ]
  },
  {
   "cell_type": "code",
   "execution_count": 72,
   "id": "72f73a7d",
   "metadata": {},
   "outputs": [
    {
     "data": {
      "text/plain": [
       "array([[ True, False, False, False],\n",
       "       [False,  True, False, False],\n",
       "       [False, False,  True, False],\n",
       "       [False, False, False,  True]])"
      ]
     },
     "execution_count": 72,
     "metadata": {},
     "output_type": "execute_result"
    }
   ],
   "source": [
    "np.fromfunction(lambda i, j : i==j, (4,4))  #fromfunction generate ndarry from fu"
   ]
  },
  {
   "cell_type": "code",
   "execution_count": 73,
   "id": "ab1350a9",
   "metadata": {},
   "outputs": [
    {
     "data": {
      "text/plain": [
       "array([[0., 0., 0.],\n",
       "       [0., 1., 2.],\n",
       "       [0., 2., 4.]])"
      ]
     },
     "execution_count": 73,
     "metadata": {},
     "output_type": "execute_result"
    }
   ],
   "source": [
    "np.fromfunction(lambda i, j : i*j, (3,3))  #fromfunction generate ndarry from function"
   ]
  },
  {
   "cell_type": "code",
   "execution_count": 74,
   "id": "883595f4",
   "metadata": {},
   "outputs": [
    {
     "data": {
      "text/plain": [
       "array([[10., 11., 12.],\n",
       "       [11., 12., 13.],\n",
       "       [12., 13., 14.]])"
      ]
     },
     "execution_count": 74,
     "metadata": {},
     "output_type": "execute_result"
    }
   ],
   "source": [
    "np.fromfunction(lambda i, j : i+j+10, (3,3))  #fromfunction generate ndarry from fu"
   ]
  },
  {
   "cell_type": "code",
   "execution_count": 76,
   "id": "1ac3fd06",
   "metadata": {},
   "outputs": [
    {
     "name": "stderr",
     "output_type": "stream",
     "text": [
      "C:\\Users\\Balaji\\AppData\\Local\\Temp\\ipykernel_9652\\1442271528.py:1: RuntimeWarning: divide by zero encountered in divide\n",
      "  np.fromfunction(lambda i, j : i/j, (3,3))  #fromfunction generate ndarry from function\n",
      "C:\\Users\\Balaji\\AppData\\Local\\Temp\\ipykernel_9652\\1442271528.py:1: RuntimeWarning: invalid value encountered in divide\n",
      "  np.fromfunction(lambda i, j : i/j, (3,3))  #fromfunction generate ndarry from function\n"
     ]
    },
    {
     "data": {
      "text/plain": [
       "array([[nan, 0. , 0. ],\n",
       "       [inf, 1. , 0.5],\n",
       "       [inf, 2. , 1. ]])"
      ]
     },
     "execution_count": 76,
     "metadata": {},
     "output_type": "execute_result"
    }
   ],
   "source": [
    "np.fromfunction(lambda i, j : i/j, (3,3))  #fromfunction generate ndarry from function"
   ]
  },
  {
   "cell_type": "code",
   "execution_count": 77,
   "id": "f447b1f4",
   "metadata": {},
   "outputs": [],
   "source": [
    "# 0/0: nan, 1/0: inf, 2/0: inf"
   ]
  },
  {
   "cell_type": "code",
   "execution_count": 78,
   "id": "4e9da34d",
   "metadata": {},
   "outputs": [
    {
     "data": {
      "text/plain": [
       "[0, 1, 4, 9, 16]"
      ]
     },
     "execution_count": 78,
     "metadata": {},
     "output_type": "execute_result"
    }
   ],
   "source": [
    "[i*i for i in range(5)]"
   ]
  },
  {
   "cell_type": "code",
   "execution_count": 79,
   "id": "f6bdf170",
   "metadata": {},
   "outputs": [
    {
     "data": {
      "text/plain": [
       "<generator object <genexpr> at 0x0000020C180A76B0>"
      ]
     },
     "execution_count": 79,
     "metadata": {},
     "output_type": "execute_result"
    }
   ],
   "source": [
    "gen = (i*i for i in range(5))\n",
    "gen"
   ]
  },
  {
   "cell_type": "code",
   "execution_count": 80,
   "id": "e8aee0b3",
   "metadata": {},
   "outputs": [],
   "source": [
    "def test(x):\n",
    "    yield x"
   ]
  },
  {
   "cell_type": "code",
   "execution_count": 81,
   "id": "b5498c60",
   "metadata": {},
   "outputs": [
    {
     "data": {
      "text/plain": [
       "<generator object test at 0x0000020C18E21780>"
      ]
     },
     "execution_count": 81,
     "metadata": {},
     "output_type": "execute_result"
    }
   ],
   "source": [
    "test(5)"
   ]
  },
  {
   "cell_type": "code",
   "execution_count": 82,
   "id": "19e89876",
   "metadata": {},
   "outputs": [
    {
     "data": {
      "text/plain": [
       "<generator object <genexpr> at 0x0000020C180A76B0>"
      ]
     },
     "execution_count": 82,
     "metadata": {},
     "output_type": "execute_result"
    }
   ],
   "source": [
    "gen"
   ]
  },
  {
   "cell_type": "code",
   "execution_count": 83,
   "id": "2b11d050",
   "metadata": {},
   "outputs": [
    {
     "data": {
      "text/plain": [
       "array([ 0,  1,  4,  9, 16])"
      ]
     },
     "execution_count": 83,
     "metadata": {},
     "output_type": "execute_result"
    }
   ],
   "source": [
    "np.fromiter(gen, dtype=int)"
   ]
  },
  {
   "cell_type": "code",
   "execution_count": 84,
   "id": "03e88633",
   "metadata": {},
   "outputs": [
    {
     "data": {
      "text/plain": [
       "array([0, 1, 2, 3, 4])"
      ]
     },
     "execution_count": 84,
     "metadata": {},
     "output_type": "execute_result"
    }
   ],
   "source": [
    "np.fromiter(range(5), dtype=int)"
   ]
  },
  {
   "cell_type": "code",
   "execution_count": 85,
   "id": "9b03cda6",
   "metadata": {},
   "outputs": [
    {
     "data": {
      "text/plain": [
       "<generator object <genexpr> at 0x0000020C180A76B0>"
      ]
     },
     "execution_count": 85,
     "metadata": {},
     "output_type": "execute_result"
    }
   ],
   "source": [
    "gen"
   ]
  },
  {
   "cell_type": "code",
   "execution_count": 88,
   "id": "8e3ce9f5",
   "metadata": {},
   "outputs": [
    {
     "data": {
      "text/plain": [
       "array([1, 3, 4, 5])"
      ]
     },
     "execution_count": 88,
     "metadata": {},
     "output_type": "execute_result"
    }
   ],
   "source": [
    "np.fromstring('1,3,4,5', sep=',', dtype=int)"
   ]
  },
  {
   "cell_type": "code",
   "execution_count": 89,
   "id": "0da1294f",
   "metadata": {},
   "outputs": [
    {
     "data": {
      "text/plain": [
       "array([ 101.,  375., 4412.,  512.])"
      ]
     },
     "execution_count": 89,
     "metadata": {},
     "output_type": "execute_result"
    }
   ],
   "source": [
    "np.fromstring('101,375,4412,512', sep=',')"
   ]
  },
  {
   "cell_type": "code",
   "execution_count": 90,
   "id": "a6f2bcd5",
   "metadata": {},
   "outputs": [
    {
     "data": {
      "text/plain": [
       "array([3, 2, 5, 3, 5])"
      ]
     },
     "execution_count": 90,
     "metadata": {},
     "output_type": "execute_result"
    }
   ],
   "source": [
    "arr = np.array(l)\n",
    "arr"
   ]
  },
  {
   "cell_type": "code",
   "execution_count": 91,
   "id": "ed5307e5",
   "metadata": {},
   "outputs": [
    {
     "data": {
      "text/plain": [
       "5"
      ]
     },
     "execution_count": 91,
     "metadata": {},
     "output_type": "execute_result"
    }
   ],
   "source": [
    "arr.size"
   ]
  },
  {
   "cell_type": "code",
   "execution_count": 92,
   "id": "2a497639",
   "metadata": {},
   "outputs": [
    {
     "data": {
      "text/plain": [
       "1"
      ]
     },
     "execution_count": 92,
     "metadata": {},
     "output_type": "execute_result"
    }
   ],
   "source": [
    "arr.ndim"
   ]
  },
  {
   "cell_type": "code",
   "execution_count": 93,
   "id": "0a6805d3",
   "metadata": {},
   "outputs": [
    {
     "data": {
      "text/plain": [
       "(5,)"
      ]
     },
     "execution_count": 93,
     "metadata": {},
     "output_type": "execute_result"
    }
   ],
   "source": [
    "arr.shape\n"
   ]
  },
  {
   "cell_type": "code",
   "execution_count": 95,
   "id": "def8d03e",
   "metadata": {},
   "outputs": [
    {
     "data": {
      "text/plain": [
       "3"
      ]
     },
     "execution_count": 95,
     "metadata": {},
     "output_type": "execute_result"
    }
   ],
   "source": [
    "arr[0]"
   ]
  },
  {
   "cell_type": "code",
   "execution_count": 96,
   "id": "d334d893",
   "metadata": {},
   "outputs": [
    {
     "data": {
      "text/plain": [
       "[0, 1, 2, 3, 4, 5]"
      ]
     },
     "execution_count": 96,
     "metadata": {},
     "output_type": "execute_result"
    }
   ],
   "source": [
    "list(range(6))"
   ]
  },
  {
   "cell_type": "code",
   "execution_count": 97,
   "id": "c16ea2bf",
   "metadata": {},
   "outputs": [
    {
     "ename": "TypeError",
     "evalue": "'float' object cannot be interpreted as an integer",
     "output_type": "error",
     "traceback": [
      "\u001b[1;31m---------------------------------------------------------------------------\u001b[0m",
      "\u001b[1;31mTypeError\u001b[0m                                 Traceback (most recent call last)",
      "Cell \u001b[1;32mIn[97], line 1\u001b[0m\n\u001b[1;32m----> 1\u001b[0m \u001b[38;5;28mlist\u001b[39m(\u001b[38;5;28mrange\u001b[39m(\u001b[38;5;241m6.6\u001b[39m))\n",
      "\u001b[1;31mTypeError\u001b[0m: 'float' object cannot be interpreted as an integer"
     ]
    }
   ],
   "source": [
    "list(range(6.6))"
   ]
  },
  {
   "cell_type": "code",
   "execution_count": 98,
   "id": "a5189b26",
   "metadata": {},
   "outputs": [
    {
     "data": {
      "text/plain": [
       "array([0., 1., 2., 3., 4., 5., 6.])"
      ]
     },
     "execution_count": 98,
     "metadata": {},
     "output_type": "execute_result"
    }
   ],
   "source": [
    "np.arange(6.6)"
   ]
  },
  {
   "cell_type": "code",
   "execution_count": 99,
   "id": "b493a5ea",
   "metadata": {},
   "outputs": [
    {
     "data": {
      "text/plain": [
       "array([6.6, 6.9, 7.2, 7.5, 7.8, 8.1, 8.4, 8.7, 9. ])"
      ]
     },
     "execution_count": 99,
     "metadata": {},
     "output_type": "execute_result"
    }
   ],
   "source": [
    "\n",
    "np.arange(6.6, 9, 0.3)"
   ]
  },
  {
   "cell_type": "code",
   "execution_count": 100,
   "id": "2567ea3e",
   "metadata": {},
   "outputs": [
    {
     "data": {
      "text/plain": [
       "array([], dtype=float64)"
      ]
     },
     "execution_count": 100,
     "metadata": {},
     "output_type": "execute_result"
    }
   ],
   "source": [
    "np.arange(6.6, 9, -0.3)"
   ]
  },
  {
   "cell_type": "code",
   "execution_count": 101,
   "id": "9939d117",
   "metadata": {},
   "outputs": [
    {
     "data": {
      "text/plain": [
       "array([9. , 8.7, 8.4, 8.1, 7.8, 7.5, 7.2, 6.9, 6.6])"
      ]
     },
     "execution_count": 101,
     "metadata": {},
     "output_type": "execute_result"
    }
   ],
   "source": [
    "np.arange(9, 6.6, -0.3)    # arange dont exclude the upperbound"
   ]
  },
  {
   "cell_type": "code",
   "execution_count": 102,
   "id": "7d015bc8",
   "metadata": {},
   "outputs": [
    {
     "data": {
      "text/plain": [
       "array([1.        , 1.02040816, 1.04081633, 1.06122449, 1.08163265,\n",
       "       1.10204082, 1.12244898, 1.14285714, 1.16326531, 1.18367347,\n",
       "       1.20408163, 1.2244898 , 1.24489796, 1.26530612, 1.28571429,\n",
       "       1.30612245, 1.32653061, 1.34693878, 1.36734694, 1.3877551 ,\n",
       "       1.40816327, 1.42857143, 1.44897959, 1.46938776, 1.48979592,\n",
       "       1.51020408, 1.53061224, 1.55102041, 1.57142857, 1.59183673,\n",
       "       1.6122449 , 1.63265306, 1.65306122, 1.67346939, 1.69387755,\n",
       "       1.71428571, 1.73469388, 1.75510204, 1.7755102 , 1.79591837,\n",
       "       1.81632653, 1.83673469, 1.85714286, 1.87755102, 1.89795918,\n",
       "       1.91836735, 1.93877551, 1.95918367, 1.97959184, 2.        ])"
      ]
     },
     "execution_count": 102,
     "metadata": {},
     "output_type": "execute_result"
    }
   ],
   "source": [
    "np.linspace(1,2)"
   ]
  },
  {
   "cell_type": "code",
   "execution_count": 103,
   "id": "fca11fdf",
   "metadata": {},
   "outputs": [
    {
     "data": {
      "text/plain": [
       "array([1.  , 1.25, 1.5 , 1.75, 2.  ])"
      ]
     },
     "execution_count": 103,
     "metadata": {},
     "output_type": "execute_result"
    }
   ],
   "source": [
    "np.linspace(1,2,5)"
   ]
  },
  {
   "cell_type": "code",
   "execution_count": 104,
   "id": "5442afd9",
   "metadata": {},
   "outputs": [
    {
     "data": {
      "text/plain": [
       "array([0.3  , 0.525, 0.75 , 0.975, 1.2  ])"
      ]
     },
     "execution_count": 104,
     "metadata": {},
     "output_type": "execute_result"
    }
   ],
   "source": [
    "np.linspace(.3, 1.2, 5)"
   ]
  },
  {
   "cell_type": "code",
   "execution_count": 105,
   "id": "6594e37b",
   "metadata": {},
   "outputs": [
    {
     "data": {
      "text/plain": [
       "array([2.        , 2.66666667, 3.33333333, 4.        ])"
      ]
     },
     "execution_count": 105,
     "metadata": {},
     "output_type": "execute_result"
    }
   ],
   "source": [
    "np.linspace(2,4,4)"
   ]
  },
  {
   "cell_type": "code",
   "execution_count": 106,
   "id": "e3cffa63",
   "metadata": {},
   "outputs": [
    {
     "data": {
      "text/plain": [
       "array([2. , 2.5, 3. , 3.5])"
      ]
     },
     "execution_count": 106,
     "metadata": {},
     "output_type": "execute_result"
    }
   ],
   "source": [
    "np.linspace(2,4,4, endpoint=False)"
   ]
  },
  {
   "cell_type": "code",
   "execution_count": 107,
   "id": "28d150aa",
   "metadata": {},
   "outputs": [
    {
     "data": {
      "text/plain": [
       "array([2. , 2.5, 3. , 3.5])"
      ]
     },
     "execution_count": 107,
     "metadata": {},
     "output_type": "execute_result"
    }
   ],
   "source": [
    "np.linspace(2,4,4, endpoint=False, axis=0)"
   ]
  },
  {
   "cell_type": "code",
   "execution_count": 108,
   "id": "947c0875",
   "metadata": {},
   "outputs": [
    {
     "data": {
      "text/plain": [
       "array([[1.        , 6.        ],\n",
       "       [1.06122449, 5.95918367],\n",
       "       [1.12244898, 5.91836735],\n",
       "       [1.18367347, 5.87755102],\n",
       "       [1.24489796, 5.83673469],\n",
       "       [1.30612245, 5.79591837],\n",
       "       [1.36734694, 5.75510204],\n",
       "       [1.42857143, 5.71428571],\n",
       "       [1.48979592, 5.67346939],\n",
       "       [1.55102041, 5.63265306],\n",
       "       [1.6122449 , 5.59183673],\n",
       "       [1.67346939, 5.55102041],\n",
       "       [1.73469388, 5.51020408],\n",
       "       [1.79591837, 5.46938776],\n",
       "       [1.85714286, 5.42857143],\n",
       "       [1.91836735, 5.3877551 ],\n",
       "       [1.97959184, 5.34693878],\n",
       "       [2.04081633, 5.30612245],\n",
       "       [2.10204082, 5.26530612],\n",
       "       [2.16326531, 5.2244898 ],\n",
       "       [2.2244898 , 5.18367347],\n",
       "       [2.28571429, 5.14285714],\n",
       "       [2.34693878, 5.10204082],\n",
       "       [2.40816327, 5.06122449],\n",
       "       [2.46938776, 5.02040816],\n",
       "       [2.53061224, 4.97959184],\n",
       "       [2.59183673, 4.93877551],\n",
       "       [2.65306122, 4.89795918],\n",
       "       [2.71428571, 4.85714286],\n",
       "       [2.7755102 , 4.81632653],\n",
       "       [2.83673469, 4.7755102 ],\n",
       "       [2.89795918, 4.73469388],\n",
       "       [2.95918367, 4.69387755],\n",
       "       [3.02040816, 4.65306122],\n",
       "       [3.08163265, 4.6122449 ],\n",
       "       [3.14285714, 4.57142857],\n",
       "       [3.20408163, 4.53061224],\n",
       "       [3.26530612, 4.48979592],\n",
       "       [3.32653061, 4.44897959],\n",
       "       [3.3877551 , 4.40816327],\n",
       "       [3.44897959, 4.36734694],\n",
       "       [3.51020408, 4.32653061],\n",
       "       [3.57142857, 4.28571429],\n",
       "       [3.63265306, 4.24489796],\n",
       "       [3.69387755, 4.20408163],\n",
       "       [3.75510204, 4.16326531],\n",
       "       [3.81632653, 4.12244898],\n",
       "       [3.87755102, 4.08163265],\n",
       "       [3.93877551, 4.04081633],\n",
       "       [4.        , 4.        ]])"
      ]
     },
     "execution_count": 108,
     "metadata": {},
     "output_type": "execute_result"
    }
   ],
   "source": [
    "\n",
    "np.linspace([1,6], 4)"
   ]
  },
  {
   "cell_type": "code",
   "execution_count": 109,
   "id": "e655f3cf",
   "metadata": {},
   "outputs": [
    {
     "data": {
      "text/plain": [
       "array([[1.  , 6.  ],\n",
       "       [1.06, 5.96],\n",
       "       [1.12, 5.92],\n",
       "       [1.18, 5.88],\n",
       "       [1.24, 5.84],\n",
       "       [1.3 , 5.8 ],\n",
       "       [1.36, 5.76],\n",
       "       [1.42, 5.72],\n",
       "       [1.48, 5.68],\n",
       "       [1.54, 5.64],\n",
       "       [1.6 , 5.6 ],\n",
       "       [1.66, 5.56],\n",
       "       [1.72, 5.52],\n",
       "       [1.78, 5.48],\n",
       "       [1.84, 5.44],\n",
       "       [1.9 , 5.4 ],\n",
       "       [1.96, 5.36],\n",
       "       [2.02, 5.32],\n",
       "       [2.08, 5.28],\n",
       "       [2.14, 5.24],\n",
       "       [2.2 , 5.2 ],\n",
       "       [2.26, 5.16],\n",
       "       [2.32, 5.12],\n",
       "       [2.38, 5.08],\n",
       "       [2.44, 5.04],\n",
       "       [2.5 , 5.  ],\n",
       "       [2.56, 4.96],\n",
       "       [2.62, 4.92],\n",
       "       [2.68, 4.88],\n",
       "       [2.74, 4.84],\n",
       "       [2.8 , 4.8 ],\n",
       "       [2.86, 4.76],\n",
       "       [2.92, 4.72],\n",
       "       [2.98, 4.68],\n",
       "       [3.04, 4.64],\n",
       "       [3.1 , 4.6 ],\n",
       "       [3.16, 4.56],\n",
       "       [3.22, 4.52],\n",
       "       [3.28, 4.48],\n",
       "       [3.34, 4.44],\n",
       "       [3.4 , 4.4 ],\n",
       "       [3.46, 4.36],\n",
       "       [3.52, 4.32],\n",
       "       [3.58, 4.28],\n",
       "       [3.64, 4.24],\n",
       "       [3.7 , 4.2 ],\n",
       "       [3.76, 4.16],\n",
       "       [3.82, 4.12],\n",
       "       [3.88, 4.08],\n",
       "       [3.94, 4.04]])"
      ]
     },
     "execution_count": 109,
     "metadata": {},
     "output_type": "execute_result"
    }
   ],
   "source": [
    "np.linspace([1,6], 4, endpoint=False, axis=0)"
   ]
  },
  {
   "cell_type": "code",
   "execution_count": 110,
   "id": "c3ad1f45",
   "metadata": {},
   "outputs": [
    {
     "data": {
      "text/plain": [
       "array([[1.  , 1.06, 1.12, 1.18, 1.24, 1.3 , 1.36, 1.42, 1.48, 1.54, 1.6 ,\n",
       "        1.66, 1.72, 1.78, 1.84, 1.9 , 1.96, 2.02, 2.08, 2.14, 2.2 , 2.26,\n",
       "        2.32, 2.38, 2.44, 2.5 , 2.56, 2.62, 2.68, 2.74, 2.8 , 2.86, 2.92,\n",
       "        2.98, 3.04, 3.1 , 3.16, 3.22, 3.28, 3.34, 3.4 , 3.46, 3.52, 3.58,\n",
       "        3.64, 3.7 , 3.76, 3.82, 3.88, 3.94],\n",
       "       [6.  , 5.96, 5.92, 5.88, 5.84, 5.8 , 5.76, 5.72, 5.68, 5.64, 5.6 ,\n",
       "        5.56, 5.52, 5.48, 5.44, 5.4 , 5.36, 5.32, 5.28, 5.24, 5.2 , 5.16,\n",
       "        5.12, 5.08, 5.04, 5.  , 4.96, 4.92, 4.88, 4.84, 4.8 , 4.76, 4.72,\n",
       "        4.68, 4.64, 4.6 , 4.56, 4.52, 4.48, 4.44, 4.4 , 4.36, 4.32, 4.28,\n",
       "        4.24, 4.2 , 4.16, 4.12, 4.08, 4.04]])"
      ]
     },
     "execution_count": 110,
     "metadata": {},
     "output_type": "execute_result"
    }
   ],
   "source": [
    "np.linspace([1,6], 4, endpoint=False, axis=1)"
   ]
  },
  {
   "cell_type": "code",
   "execution_count": 111,
   "id": "0dc1439d",
   "metadata": {},
   "outputs": [
    {
     "data": {
      "text/plain": [
       "array([ 100.        ,  177.827941  ,  316.22776602,  562.34132519,\n",
       "       1000.        ])"
      ]
     },
     "execution_count": 111,
     "metadata": {},
     "output_type": "execute_result"
    }
   ],
   "source": [
    "np.logspace(2,3,5)"
   ]
  },
  {
   "cell_type": "code",
   "execution_count": 112,
   "id": "1d0b1d65",
   "metadata": {},
   "outputs": [
    {
     "data": {
      "text/plain": [
       "array([[  100.        ,  1000.        ],\n",
       "       [  109.8541142 ,  1048.11313415],\n",
       "       [  120.67926406,  1098.54114199],\n",
       "       [  132.57113656,  1151.39539933],\n",
       "       [  145.63484775,  1206.79264064],\n",
       "       [  159.98587196,  1264.85521686],\n",
       "       [  175.75106249,  1325.71136559],\n",
       "       [  193.06977289,  1389.49549437],\n",
       "       [  212.09508879,  1456.3484775 ],\n",
       "       [  232.99518105,  1526.41796718],\n",
       "       [  255.95479227,  1599.85871961],\n",
       "       [  281.1768698 ,  1676.83293681],\n",
       "       [  308.88435965,  1757.51062485],\n",
       "       [  339.32217719,  1842.06996933],\n",
       "       [  372.75937203,  1930.69772888],\n",
       "       [  409.49150624,  2023.58964773],\n",
       "       [  449.8432669 ,  2120.95088792],\n",
       "       [  494.17133613,  2222.99648253],\n",
       "       [  542.86754393,  2329.95181052],\n",
       "       [  596.36233166,  2442.05309455],\n",
       "       [  655.12855686,  2559.5479227 ],\n",
       "       [  719.685673  ,  2682.69579528],\n",
       "       [  790.60432109,  2811.76869797],\n",
       "       [  868.51137375,  2947.05170255],\n",
       "       [  954.09547635,  3088.84359648],\n",
       "       [ 1048.11313415,  3237.45754282],\n",
       "       [ 1151.39539933,  3393.2217719 ],\n",
       "       [ 1264.85521686,  3556.48030622],\n",
       "       [ 1389.49549437,  3727.59372031],\n",
       "       [ 1526.41796718,  3906.93993705],\n",
       "       [ 1676.83293681,  4094.91506238],\n",
       "       [ 1842.06996933,  4291.93426013],\n",
       "       [ 2023.58964773,  4498.43266897],\n",
       "       [ 2222.99648253,  4714.86636346],\n",
       "       [ 2442.05309455,  4941.71336132],\n",
       "       [ 2682.69579528,  5179.47467923],\n",
       "       [ 2947.05170255,  5428.67543932],\n",
       "       [ 3237.45754282,  5689.86602902],\n",
       "       [ 3556.48030622,  5963.62331659],\n",
       "       [ 3906.93993705,  6250.55192527],\n",
       "       [ 4291.93426013,  6551.2855686 ],\n",
       "       [ 4714.86636346,  6866.48845004],\n",
       "       [ 5179.47467923,  7196.85673001],\n",
       "       [ 5689.86602902,  7543.12006335],\n",
       "       [ 6250.55192527,  7906.04321091],\n",
       "       [ 6866.48845004,  8286.42772855],\n",
       "       [ 7543.12006335,  8685.11373751],\n",
       "       [ 8286.42772855,  9102.98177992],\n",
       "       [ 9102.98177992,  9540.9547635 ],\n",
       "       [10000.        , 10000.        ]])"
      ]
     },
     "execution_count": 112,
     "metadata": {},
     "output_type": "execute_result"
    }
   ],
   "source": [
    "np.logspace([2,3],4)"
   ]
  },
  {
   "cell_type": "code",
   "execution_count": 113,
   "id": "7fed282b",
   "metadata": {},
   "outputs": [
    {
     "data": {
      "text/plain": [
       "array([[ 100.        ],\n",
       "       [ 104.81131342],\n",
       "       [ 109.8541142 ],\n",
       "       [ 115.13953993],\n",
       "       [ 120.67926406],\n",
       "       [ 126.48552169],\n",
       "       [ 132.57113656],\n",
       "       [ 138.94954944],\n",
       "       [ 145.63484775],\n",
       "       [ 152.64179672],\n",
       "       [ 159.98587196],\n",
       "       [ 167.68329368],\n",
       "       [ 175.75106249],\n",
       "       [ 184.20699693],\n",
       "       [ 193.06977289],\n",
       "       [ 202.35896477],\n",
       "       [ 212.09508879],\n",
       "       [ 222.29964825],\n",
       "       [ 232.99518105],\n",
       "       [ 244.20530945],\n",
       "       [ 255.95479227],\n",
       "       [ 268.26957953],\n",
       "       [ 281.1768698 ],\n",
       "       [ 294.70517026],\n",
       "       [ 308.88435965],\n",
       "       [ 323.74575428],\n",
       "       [ 339.32217719],\n",
       "       [ 355.64803062],\n",
       "       [ 372.75937203],\n",
       "       [ 390.69399371],\n",
       "       [ 409.49150624],\n",
       "       [ 429.19342601],\n",
       "       [ 449.8432669 ],\n",
       "       [ 471.48663635],\n",
       "       [ 494.17133613],\n",
       "       [ 517.94746792],\n",
       "       [ 542.86754393],\n",
       "       [ 568.9866029 ],\n",
       "       [ 596.36233166],\n",
       "       [ 625.05519253],\n",
       "       [ 655.12855686],\n",
       "       [ 686.648845  ],\n",
       "       [ 719.685673  ],\n",
       "       [ 754.31200634],\n",
       "       [ 790.60432109],\n",
       "       [ 828.64277285],\n",
       "       [ 868.51137375],\n",
       "       [ 910.29817799],\n",
       "       [ 954.09547635],\n",
       "       [1000.        ]])"
      ]
     },
     "execution_count": 113,
     "metadata": {},
     "output_type": "execute_result"
    }
   ],
   "source": [
    "np.logspace([2],[3])"
   ]
  },
  {
   "cell_type": "code",
   "execution_count": 114,
   "id": "bf4e63e1",
   "metadata": {},
   "outputs": [],
   "source": [
    "\n",
    "d = np.linspace(4,7,40)"
   ]
  },
  {
   "cell_type": "code",
   "execution_count": 115,
   "id": "0be9a367",
   "metadata": {},
   "outputs": [
    {
     "data": {
      "text/plain": [
       "array([4.        , 4.07692308, 4.15384615, 4.23076923, 4.30769231,\n",
       "       4.38461538, 4.46153846, 4.53846154, 4.61538462, 4.69230769,\n",
       "       4.76923077, 4.84615385, 4.92307692, 5.        , 5.07692308,\n",
       "       5.15384615, 5.23076923, 5.30769231, 5.38461538, 5.46153846,\n",
       "       5.53846154, 5.61538462, 5.69230769, 5.76923077, 5.84615385,\n",
       "       5.92307692, 6.        , 6.07692308, 6.15384615, 6.23076923,\n",
       "       6.30769231, 6.38461538, 6.46153846, 6.53846154, 6.61538462,\n",
       "       6.69230769, 6.76923077, 6.84615385, 6.92307692, 7.        ])"
      ]
     },
     "execution_count": 115,
     "metadata": {},
     "output_type": "execute_result"
    }
   ],
   "source": [
    "d"
   ]
  },
  {
   "cell_type": "code",
   "execution_count": 116,
   "id": "0288cf4a",
   "metadata": {},
   "outputs": [
    {
     "data": {
      "text/plain": [
       "1"
      ]
     },
     "execution_count": 116,
     "metadata": {},
     "output_type": "execute_result"
    }
   ],
   "source": [
    "\n",
    "d.ndim\n"
   ]
  },
  {
   "cell_type": "code",
   "execution_count": 117,
   "id": "ce755331",
   "metadata": {},
   "outputs": [
    {
     "data": {
      "text/plain": [
       "(40,)"
      ]
     },
     "execution_count": 117,
     "metadata": {},
     "output_type": "execute_result"
    }
   ],
   "source": [
    "d.shape"
   ]
  },
  {
   "cell_type": "code",
   "execution_count": 118,
   "id": "56429e5c",
   "metadata": {},
   "outputs": [
    {
     "data": {
      "text/plain": [
       "array([[4.        ],\n",
       "       [4.07692308],\n",
       "       [4.15384615],\n",
       "       [4.23076923],\n",
       "       [4.30769231],\n",
       "       [4.38461538],\n",
       "       [4.46153846],\n",
       "       [4.53846154],\n",
       "       [4.61538462],\n",
       "       [4.69230769],\n",
       "       [4.76923077],\n",
       "       [4.84615385],\n",
       "       [4.92307692],\n",
       "       [5.        ],\n",
       "       [5.07692308],\n",
       "       [5.15384615],\n",
       "       [5.23076923],\n",
       "       [5.30769231],\n",
       "       [5.38461538],\n",
       "       [5.46153846],\n",
       "       [5.53846154],\n",
       "       [5.61538462],\n",
       "       [5.69230769],\n",
       "       [5.76923077],\n",
       "       [5.84615385],\n",
       "       [5.92307692],\n",
       "       [6.        ],\n",
       "       [6.07692308],\n",
       "       [6.15384615],\n",
       "       [6.23076923],\n",
       "       [6.30769231],\n",
       "       [6.38461538],\n",
       "       [6.46153846],\n",
       "       [6.53846154],\n",
       "       [6.61538462],\n",
       "       [6.69230769],\n",
       "       [6.76923077],\n",
       "       [6.84615385],\n",
       "       [6.92307692],\n",
       "       [7.        ]])"
      ]
     },
     "execution_count": 118,
     "metadata": {},
     "output_type": "execute_result"
    }
   ],
   "source": [
    "# Changing the shape to 2d\n",
    "d.reshape(40,1)"
   ]
  },
  {
   "cell_type": "code",
   "execution_count": 119,
   "id": "03512079",
   "metadata": {},
   "outputs": [
    {
     "data": {
      "text/plain": [
       "array([[[4.        , 4.07692308, 4.15384615, 4.23076923, 4.30769231,\n",
       "         4.38461538, 4.46153846, 4.53846154, 4.61538462, 4.69230769,\n",
       "         4.76923077, 4.84615385, 4.92307692, 5.        , 5.07692308,\n",
       "         5.15384615, 5.23076923, 5.30769231, 5.38461538, 5.46153846]],\n",
       "\n",
       "       [[5.53846154, 5.61538462, 5.69230769, 5.76923077, 5.84615385,\n",
       "         5.92307692, 6.        , 6.07692308, 6.15384615, 6.23076923,\n",
       "         6.30769231, 6.38461538, 6.46153846, 6.53846154, 6.61538462,\n",
       "         6.69230769, 6.76923077, 6.84615385, 6.92307692, 7.        ]]])"
      ]
     },
     "execution_count": 119,
     "metadata": {},
     "output_type": "execute_result"
    }
   ],
   "source": [
    "d.reshape(2,1,20)   # convert in such way so that elements will remain same"
   ]
  },
  {
   "cell_type": "code",
   "execution_count": 120,
   "id": "48efdacd",
   "metadata": {},
   "outputs": [
    {
     "data": {
      "text/plain": [
       "array([[[4.        , 4.07692308, 4.15384615, 4.23076923, 4.30769231,\n",
       "         4.38461538, 4.46153846, 4.53846154, 4.61538462, 4.69230769],\n",
       "        [4.76923077, 4.84615385, 4.92307692, 5.        , 5.07692308,\n",
       "         5.15384615, 5.23076923, 5.30769231, 5.38461538, 5.46153846]],\n",
       "\n",
       "       [[5.53846154, 5.61538462, 5.69230769, 5.76923077, 5.84615385,\n",
       "         5.92307692, 6.        , 6.07692308, 6.15384615, 6.23076923],\n",
       "        [6.30769231, 6.38461538, 6.46153846, 6.53846154, 6.61538462,\n",
       "         6.69230769, 6.76923077, 6.84615385, 6.92307692, 7.        ]]])"
      ]
     },
     "execution_count": 120,
     "metadata": {},
     "output_type": "execute_result"
    }
   ],
   "source": [
    "\n",
    "d.reshape(2,2,10)"
   ]
  },
  {
   "cell_type": "code",
   "execution_count": 121,
   "id": "0fb4be0c",
   "metadata": {},
   "outputs": [
    {
     "data": {
      "text/plain": [
       "array([[[4.        , 4.07692308, 4.15384615, 4.23076923, 4.30769231],\n",
       "        [4.38461538, 4.46153846, 4.53846154, 4.61538462, 4.69230769],\n",
       "        [4.76923077, 4.84615385, 4.92307692, 5.        , 5.07692308],\n",
       "        [5.15384615, 5.23076923, 5.30769231, 5.38461538, 5.46153846]],\n",
       "\n",
       "       [[5.53846154, 5.61538462, 5.69230769, 5.76923077, 5.84615385],\n",
       "        [5.92307692, 6.        , 6.07692308, 6.15384615, 6.23076923],\n",
       "        [6.30769231, 6.38461538, 6.46153846, 6.53846154, 6.61538462],\n",
       "        [6.69230769, 6.76923077, 6.84615385, 6.92307692, 7.        ]]])"
      ]
     },
     "execution_count": 121,
     "metadata": {},
     "output_type": "execute_result"
    }
   ],
   "source": [
    "d.reshape(2,4,5)"
   ]
  },
  {
   "cell_type": "code",
   "execution_count": 122,
   "id": "32b89292",
   "metadata": {},
   "outputs": [
    {
     "data": {
      "text/plain": [
       "array([0.18476737, 0.55058122, 0.51060242])"
      ]
     },
     "execution_count": 122,
     "metadata": {},
     "output_type": "execute_result"
    }
   ],
   "source": [
    "np.random.rand(3)   # Gaussian/normal Distribution"
   ]
  },
  {
   "cell_type": "code",
   "execution_count": 123,
   "id": "37e694f5",
   "metadata": {},
   "outputs": [
    {
     "data": {
      "text/plain": [
       "array([ 0.38474944,  0.48724658, -0.45451143, -0.66727384,  0.85651552])"
      ]
     },
     "execution_count": 123,
     "metadata": {},
     "output_type": "execute_result"
    }
   ],
   "source": [
    "np.random.randn(5)  # standard normal distribution(mean=0, sd=1)"
   ]
  },
  {
   "cell_type": "code",
   "execution_count": 124,
   "id": "357d0a2c",
   "metadata": {},
   "outputs": [
    {
     "data": {
      "text/plain": [
       "array([[[ 0.04530027,  0.99439022,  0.33904709],\n",
       "        [-0.37029443, -0.75285246, -1.29695783]],\n",
       "\n",
       "       [[ 1.26486659,  0.81313371,  0.68745625],\n",
       "        [-0.4337737 ,  1.3761861 ,  0.6041726 ]]])"
      ]
     },
     "execution_count": 124,
     "metadata": {},
     "output_type": "execute_result"
    }
   ],
   "source": [
    "np.random.randn(2,2,3)"
   ]
  },
  {
   "cell_type": "code",
   "execution_count": 125,
   "id": "d1661ce2",
   "metadata": {},
   "outputs": [
    {
     "data": {
      "text/plain": [
       "51"
      ]
     },
     "execution_count": 125,
     "metadata": {},
     "output_type": "execute_result"
    }
   ],
   "source": [
    "np.random.randint(5,60)"
   ]
  },
  {
   "cell_type": "code",
   "execution_count": 126,
   "id": "711bd5d4",
   "metadata": {},
   "outputs": [],
   "source": [
    "np.random.seed(13)  # Help in get same random data for a particular argument here its 13"
   ]
  },
  {
   "cell_type": "code",
   "execution_count": 127,
   "id": "5e2e93a5",
   "metadata": {},
   "outputs": [
    {
     "data": {
      "text/plain": [
       "array([[0.77770241, 0.23754122, 0.82427853, 0.9657492 ],\n",
       "       [0.97260111, 0.45344925, 0.60904246, 0.77552651]])"
      ]
     },
     "execution_count": 127,
     "metadata": {},
     "output_type": "execute_result"
    }
   ],
   "source": [
    "np.random.seed(13)\n",
    "np.random.rand(2, 4)"
   ]
  },
  {
   "cell_type": "code",
   "execution_count": 128,
   "id": "6b14bc24",
   "metadata": {},
   "outputs": [
    {
     "data": {
      "text/plain": [
       "array([[0.77770241, 0.23754122, 0.82427853, 0.9657492 ],\n",
       "       [0.97260111, 0.45344925, 0.60904246, 0.77552651]])"
      ]
     },
     "execution_count": 128,
     "metadata": {},
     "output_type": "execute_result"
    }
   ],
   "source": [
    "np.random.seed(13)\n",
    "np.random.rand(2, 4)"
   ]
  },
  {
   "cell_type": "code",
   "execution_count": 129,
   "id": "3dfe0900",
   "metadata": {},
   "outputs": [
    {
     "data": {
      "text/plain": [
       "array([[0.77770241, 0.23754122, 0.82427853, 0.9657492 ],\n",
       "       [0.97260111, 0.45344925, 0.60904246, 0.77552651]])"
      ]
     },
     "execution_count": 129,
     "metadata": {},
     "output_type": "execute_result"
    }
   ],
   "source": [
    "np.random.seed(13)\n",
    "np.random.rand(2, 4)"
   ]
  },
  {
   "cell_type": "code",
   "execution_count": null,
   "id": "2d80d78c",
   "metadata": {},
   "outputs": [],
   "source": []
  }
 ],
 "metadata": {
  "kernelspec": {
   "display_name": "Python 3 (ipykernel)",
   "language": "python",
   "name": "python3"
  },
  "language_info": {
   "codemirror_mode": {
    "name": "ipython",
    "version": 3
   },
   "file_extension": ".py",
   "mimetype": "text/x-python",
   "name": "python",
   "nbconvert_exporter": "python",
   "pygments_lexer": "ipython3",
   "version": "3.11.4"
  }
 },
 "nbformat": 4,
 "nbformat_minor": 5
}
